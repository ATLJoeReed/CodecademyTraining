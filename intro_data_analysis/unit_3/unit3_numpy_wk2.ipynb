{
 "cells": [
  {
   "cell_type": "code",
   "execution_count": 1,
   "metadata": {},
   "outputs": [],
   "source": [
    "import numpy as np"
   ]
  },
  {
   "cell_type": "code",
   "execution_count": 2,
   "metadata": {},
   "outputs": [],
   "source": [
    "# Day 9...\n",
    "# https://s3.amazonaws.com/codecademy-content/courses/numpy/college_enrollment.html"
   ]
  },
  {
   "cell_type": "markdown",
   "metadata": {},
   "source": [
    "#### Introduction\n",
    "\n",
    "A university wants to keep track of the popularity of different programs over time, to ensure that programs are allocated enough space and resources. You work in the admissions office and are asked to put together a set of visuals that show these trends to interested applicants. How can we calculate these distributions? Would we be able to see trends and predict the popularity of certain programs in the future? How would we show this information?\n",
    "\n",
    "In this lesson, we are going to learn how to use NumPy to analyze different distributions, generate random numbers to produce datasets, and use Matplotlib to visualize our findings.\n",
    "\n",
    "This lesson will cover:\n",
    "\n",
    "How to generate and graph histograms\n",
    "How to identify different distributions by their shape\n",
    "Normal distributions\n",
    "How standard deviations relate to normal distributions\n",
    "Binomial distributions"
   ]
  },
  {
   "cell_type": "markdown",
   "metadata": {},
   "source": [
    "#### Histograms, Part III\n",
    "We can graph histograms using a Python module known as Matplotlib. We're not going to go into detail about Matplotlib’s plotting functions, but if you're interested in learning more, take our course Introduction to Matplotlib. For now, familiarize yourself with the following syntax to draw a histogram:\n",
    "\n",
    "This imports the plotting package.  We only need to do this once.\n",
    "from matplotlib import pyplot as plt \n",
    "\n",
    "This plots a histogram\n",
    "plt.hist(data)\n",
    "\n",
    "This displays the histogram\n",
    "plt.show()\n",
    "When we enter plt.hist with no keyword arguments, matplotlib will automatically make a histogram with 10 bins of equal width that span the entire range of our data.\n",
    "\n",
    "If you want a different number of bins, use the keyword bins. For instance, the following code would give us 5 bins, instead of 10:\n",
    "\n",
    "plt.hist(data, bins=5)\n",
    "If you want a different range, you can pass in the minimum and maximum values that you want to histogram using the keyword range. We pass in a tuple of two numbers. The first number is the minimum value that we want to plot and the second value is the number that we want to plot up to, but not including.\n",
    "\n",
    "For instance, if our dataset contained values between 0 and 100, but we only wanted to histogram numbers between 20 and 50, we could use this command:\n",
    "\n",
    "We pass 51 so that our range includes 50\n",
    "plt.hist(data, range=(20, 51)\n",
    "Here’s a complete example:\n",
    "\n",
    "from matplotlib import pyplot as plt\n",
    "\n",
    "d = np.array([1, 1, 1, 2, 2, 2, 2, 2, 3, 3, 4, 4, 4, 4, 5])\n",
    "\n",
    "plt.hist(d, bins=5, range=(1, 6))\n",
    "\n",
    "plt.show()"
   ]
  },
  {
   "cell_type": "code",
   "execution_count": 3,
   "metadata": {},
   "outputs": [
    {
     "data": {
      "image/png": "[encoded data removed]",
      "text/plain": [
       "<matplotlib.figure.Figure at 0x10e971048>"
      ]
     },
     "metadata": {},
     "output_type": "display_data"
    }
   ],
   "source": [
    "from matplotlib import pyplot as plt\n",
    "\n",
    "d = np.array([1, 1, 1, 2, 2, 2, 2, 2, 3, 3, 4, 4, 4, 4, 5])\n",
    "\n",
    "plt.hist(d, bins=5, range=(1, 6))\n",
    "\n",
    "plt.show()"
   ]
  },
  {
   "cell_type": "markdown",
   "metadata": {},
   "source": [
    "#### Different Types of Distributions, Part I\n",
    "Histograms and their datasets can be classified based on the shape of the graphed values. In the next two exercises, we'll look at two different ways of describing histograms.\n",
    "\n",
    "One way to classify a dataset is by counting the number of distinct peaks present in the graph. Peaks represent concentrations of data. Let's look at the following examples:\n",
    "\n",
    "A unimodal dataset has only one distinct peak. histogram\n",
    "\n",
    "A bimodal dataset has two distinct peaks. This often happens when the data contains two different populations. histogram\n",
    "\n",
    "A multimodal dataset has more than two peaks. histogram\n",
    "\n",
    "A uniform dataset doesn't have any distinct peaks. histogram"
   ]
  },
  {
   "cell_type": "markdown",
   "metadata": {},
   "source": [
    "#### Different Types of Distribution, Part II\n",
    "\n",
    "Most of the datasets that we'll be dealing with will be unimodal (one peak). We can further classify unimodal distributions by describing where most of the numbers are relative to the peak.\n",
    "\n",
    "A symmetric dataset has equal amounts of data on both sides of the peak. Both sides should look about the same. histogram\n",
    "\n",
    "A skew-right dataset has a long tail on the right of the peak, but most of the data is on the left. histogram\n",
    "\n",
    "A skew-left dataset has a long tail on the left of the peak, but most of the data is on the right. histogram\n",
    "\n",
    "The type of distribution affects the position of the mean and median. In heavily skewed distributions, the mean becomes a less useful measurement.\n",
    "\n",
    "SYMMETRIC histogram\n",
    "\n",
    "SKEW-RIGHT histogram\n",
    "\n",
    "SKEW-LEFT histogram"
   ]
  },
  {
   "cell_type": "markdown",
   "metadata": {},
   "source": [
    "#### Normal Distribution, Part I\n",
    "\n",
    "The most common distribution in statistics is known as the normal distribution, which is a symmetric, unimodal distribution.\n",
    "\n",
    "Lots of things follow a normal distribution:\n",
    "\n",
    "The heights of a large group of people\n",
    "Blood pressure measurements for a group of healthy people\n",
    "Errors in measurements\n",
    "Normal distributions are defined by their mean and standard deviation. The mean sets the \"middle\" of the distribution, and the standard deviation sets the \"width\" of the distribution. A larger standard deviation leads to a wider distribution. A smaller standard deviation leads to a skinnier distribution.\n",
    "\n",
    "Here are a few examples of normal distributions with different means and standard deviations:\n",
    "\n",
    "normal_distribution\n",
    "\n",
    "As we can see, each set of data has the same \"shape\", but with slight differences depending on their mean and standard deviation."
   ]
  },
  {
   "cell_type": "markdown",
   "metadata": {},
   "source": [
    "#### Normal Distribution, Part II\n",
    "\n",
    "We can generate our own normally distributed datasets using NumPy. Using these datasets can help us better understand the properties and behavior of different distributions. We can also use them to model results, which we can then use as a comparison to real data.\n",
    "\n",
    "In order to create these datasets, we need to use a random number generator. The NumPy library has several functions for generating random numbers, including one specifically built to generate a set of numbers that fit a normal distribution: np.random.normal. This function takes the following keyword arguments:\n",
    "\n",
    "loc: the mean for the normal distribution\n",
    "scale: the standard deviation of the distribution\n",
    "size: the number of random numbers to generate\n",
    "a = np.random.normal(0, 1, size=100000)\n",
    "If we were to plot this set of random numbers as a histogram, it would look like this: histogram"
   ]
  },
  {
   "cell_type": "code",
   "execution_count": 4,
   "metadata": {},
   "outputs": [
    {
     "data": {
      "image/png": "[encoded data removed]",
      "text/plain": [
       "<matplotlib.figure.Figure at 0x10f7f46d8>"
      ]
     },
     "metadata": {},
     "output_type": "display_data"
    }
   ],
   "source": [
    "# Brachiosaurus\n",
    "b_data = np.random.normal(6.7, .7, size=1000)\n",
    "\n",
    "# Fictionosaurus\n",
    "f_data = np.random.normal(7.7, .3, size=1000)\n",
    "\n",
    "plt.hist(b_data,\n",
    "         bins=30, range=(5, 8.5), histtype='step',\n",
    "         label='Brachiosaurus')\n",
    "plt.hist(f_data,\n",
    "         bins=30, range=(5, 8.5), histtype='step',\n",
    "         label='Fictionosaurus')\n",
    "plt.xlabel('Femur Length (ft)')\n",
    "plt.legend(loc=2)\n",
    "plt.show()"
   ]
  },
  {
   "cell_type": "markdown",
   "metadata": {},
   "source": [
    "#### Standard Deviations and Normal Distribution, Part II\n",
    "\n",
    "We know that the standard deviation affects the \"shape\" of our normal distribution. The last exercise helps to give us a more quantitative understanding of this.\n",
    "\n",
    "Suppose that we have a normal distribution with a mean of 50 and a standard deviation of 10. When we say \"within one standard deviation of the mean\", this is what we are saying mathematically:\n",
    "\n",
    "lower_bound = mean - std\n",
    "            = 50 - 10\n",
    "            = 40\n",
    "\n",
    "upper_bound = mean + std\n",
    "            = 50 + 10\n",
    "            = 60\n",
    "\n",
    "It turns out that we can expect about 68% of our dataset to be between 40 and 60, for this distribution.\n",
    "\n",
    "As we saw in the previous exercise, no matter what mean and standard deviation we choose, 68% of our samples will fall between +/- 1 standard deviation of the mean!\n",
    "\n",
    "In fact, here are a few more helpful rules for normal distributions:\n",
    "\n",
    "68% of our samples will fall between +/- 1 standard deviation of the mean\n",
    "\n",
    "95% of our samples will fall between +/- 2 standard deviations of the mean\n",
    "\n",
    "99.7% of our samples will fall between +/- 3 standard deviations of the mean"
   ]
  },
  {
   "cell_type": "markdown",
   "metadata": {},
   "source": [
    "#### Binomial Distribution, Part I\n",
    "\n",
    "It's known that a certain basketball player makes 30% of his free throws. On Friday night’s game, he had the chance to shoot 10 free throws. How many free throws might you expect him to make? We would expect 0.30 * 10 = 3.\n",
    "\n",
    "However, he actually made 4 free throws out of 10 or 40%. Is this surprising? Does this mean that he’s actually better than we thought?\n",
    "\n",
    "The binomial distribution can help us. It tells us how likely it is for a certain number of “successes” to happen, given a probability of success and a number of trials.\n",
    "\n",
    "In this example:\n",
    "\n",
    "* The probability of success was 30% (he makes 30% of free throws)\n",
    "* The number of trials was 10 (he took 10 shots)\n",
    "* The number of successes was 4 (he made 4 shots)\n",
    "\n",
    "The binomial distribution is important because it allows us to know how likely a certain outcome is, even when it's not the expected one. From this graph, we can see that it's not that unlikely an outcome for our basketball player to get 4 free throws out of 10. However, it would be pretty unlikely for him to get all 10.\n",
    "\n",
    "binomiall"
   ]
  },
  {
   "cell_type": "markdown",
   "metadata": {},
   "source": [
    "#### Binomial Distributions, Part II\n",
    "\n",
    "There are some complicated formulas for determining these types of probabilities. Luckily for us, we can use NumPy - specifically, its ability to generate random numbers. We can use these random numbers to model a distribution of numerical data that matches the real-life scenario we're interested in understanding.\n",
    "\n",
    "For instance, suppose we want to know the different probabilities of our basketball player making 1, 2, 3, etc. out of 10 shots.\n",
    "\n",
    "NumPy has a function for generating binomial distributions: np.random.binomial, which we can use to determine the probability of different outcomes.\n",
    "\n",
    "The function will return the number of successes for each \"experiment\".\n",
    "\n",
    "It takes the following arguments:\n",
    "\n",
    "N: The number of samples or trials\n",
    "P: The probability of success\n",
    "size: The number of experiments\n",
    "Let's generate a bunch of \"experiments\" of our basketball player making 10 shots. We choose a big N to be sure that our probabilities converge on the correct answer.\n",
    "\n",
    "Let's generate 10,000 \"experiments\"\n",
    "N = 10 shots\n",
    "P = 0.30 (30% he'll get a free throw)\n",
    "\n",
    "a = np.random.binomial(10, 0.30, size=10000)\n",
    "Now we have a record of 10,000 experiments. We can use Matplotlib to plot the results of all of these experiments:\n",
    "\n",
    "plt.hist(a, range=(0, 10), bins=10, normed=True)\n",
    "plt.xlabel('Number of \"Free Throws\"')\n",
    "plt.ylabel('Frequency')\n",
    "plt.show()\n",
    "binomiall"
   ]
  },
  {
   "cell_type": "code",
   "execution_count": 3,
   "metadata": {},
   "outputs": [
    {
     "data": {
      "image/png": "[encoded data removed]",
      "text/plain": [
       "<matplotlib.figure.Figure at 0x111f1dfd0>"
      ]
     },
     "metadata": {},
     "output_type": "display_data"
    }
   ],
   "source": [
    "a = np.random.binomial(10, 0.30, size=10000)\n",
    "plt.hist(a, range=(0, 10), bins=10, normed=True)\n",
    "plt.xlabel('Number of \"Free Throws\"')\n",
    "plt.ylabel('Frequency')\n",
    "plt.show()"
   ]
  },
  {
   "cell_type": "code",
   "execution_count": 2,
   "metadata": {},
   "outputs": [
    {
     "data": {
      "image/png": "[encoded data removed]",
      "text/plain": [
       "<matplotlib.figure.Figure at 0x111ea6d30>"
      ]
     },
     "metadata": {},
     "output_type": "display_data"
    }
   ],
   "source": [
    "import numpy as np\n",
    "from matplotlib import pyplot as plt\n",
    "\n",
    "emails = np.random.binomial(500, 0.05, size=10000)\n",
    "\n",
    "plt.hist(emails)\n",
    "\n",
    "plt.show()"
   ]
  },
  {
   "cell_type": "markdown",
   "metadata": {},
   "source": [
    "#### Binomial Distributions and Probability\n",
    "Let's return to our original question:\n",
    "\n",
    "Our basketball player has a 30% chance of making any individual basket. He took 10 shots and made 4 of them, even though we only expected him to make 3. What percent chance did he have of making those 4 shots?\n",
    "\n",
    "We can calculate a different probability by counting the percent of experiments with the same outcome, using the np.mean function.\n",
    "\n",
    "Remember that taking the mean of a logical statement will give us the percent of values that satisfy our logical statement.\n",
    "\n",
    "Let's calculate the probability that he makes 4 baskets:\n",
    "\n",
    "a = np.random.binomial(10, 0.30, size=10000)\n",
    "np.mean(a == 4)\n",
    "When we plug run this code, we might get:\n",
    "\n",
    ">> 0.1973\n",
    "Remember, because we're using a random number generator, we'll get a slightly different result each time. With the large size we chose, the calculated probability should be accurate to about 2 decimal places.\n",
    "\n",
    "So, our basketball player has a roughly 20% chance of making 4 baskets\n",
    "\n",
    "This suggests that what we observed wasn't that unlikely. It's quite possible that he hasn't got any better; he just got lucky."
   ]
  },
  {
   "cell_type": "code",
   "execution_count": 7,
   "metadata": {},
   "outputs": [
    {
     "data": {
      "text/plain": [
       "0.19409999999999999"
      ]
     },
     "execution_count": 7,
     "metadata": {},
     "output_type": "execute_result"
    }
   ],
   "source": [
    "a = np.random.binomial(10, 0.30, size=10000)\n",
    "np.mean(a == 4)"
   ]
  },
  {
   "cell_type": "code",
   "execution_count": 8,
   "metadata": {},
   "outputs": [
    {
     "name": "stdout",
     "output_type": "stream",
     "text": [
      "0.0\n",
      "0.0021\n"
     ]
    }
   ],
   "source": [
    "emails = np.random.binomial(500, 0.05, size=10000)\n",
    "\n",
    "no_emails = np.mean(emails == 0)\n",
    "print(no_emails)\n",
    "\n",
    "b_test_emails = np.mean(emails >= 40)\n",
    "print(b_test_emails)"
   ]
  },
  {
   "cell_type": "markdown",
   "metadata": {},
   "source": [
    "#### Review\n",
    "\n",
    "Let's review! In this lesson, you learned how to use NumPy to analyze different distributions and generate random numbers to produce datasets. Here's what we covered:\n",
    "\n",
    "What is a histogram and how to map one using Matplotlib\n",
    "How to identify different dataset shapes, depending on peaks or distribution of data\n",
    "The definition of a normal distribution and how to use NumPy to generate one using NumPy's random number functions\n",
    "The relationships between normal distributions and standard deviations\n",
    "The definition of a binomial distribution\n",
    "Now you can use NumPy to analyze and graph your own datasets! You should practice building your intuition about not only what the data says, but what conclusions can be drawn from your observations."
   ]
  },
  {
   "cell_type": "markdown",
   "metadata": {},
   "source": [
    "#### Election Results\n",
    "\n",
    "You're part of an impartial research group that conducts phone surveys prior to local elections. During this election season, the group conducted a survey to determine how many people would vote for Cynthia Ceballos vs. Justin Kerrigan in the mayoral election.\n",
    "\n",
    "Now that the election has occurred, your group wants to compare the survey responses to the actual results. Was your survey a good indicator? Let's find out!"
   ]
  },
  {
   "cell_type": "code",
   "execution_count": 9,
   "metadata": {},
   "outputs": [],
   "source": [
    "survey_responses = ['Ceballos', 'Kerrigan', 'Ceballos', 'Ceballos', 'Ceballos','Kerrigan', 'Kerrigan', 'Ceballos', 'Ceballos', 'Ceballos', \n",
    "'Kerrigan', 'Kerrigan', 'Ceballos', 'Ceballos', 'Kerrigan', 'Kerrigan', 'Ceballos', 'Ceballos', 'Kerrigan', 'Kerrigan', 'Kerrigan', 'Kerrigan', 'Kerrigan', 'Kerrigan', 'Ceballos', 'Ceballos', 'Ceballos', 'Ceballos', 'Ceballos', 'Ceballos',\n",
    "'Kerrigan', 'Kerrigan', 'Ceballos', 'Ceballos', 'Ceballos', 'Kerrigan', 'Kerrigan', 'Ceballos', 'Ceballos', 'Kerrigan', 'Kerrigan', 'Ceballos', 'Ceballos', 'Kerrigan', 'Kerrigan', 'Kerrigan', 'Kerrigan', 'Kerrigan', 'Kerrigan', 'Ceballos',\n",
    "'Kerrigan', 'Kerrigan', 'Ceballos', 'Ceballos', 'Ceballos', 'Kerrigan', 'Kerrigan', 'Ceballos', 'Ceballos', 'Kerrigan', 'Kerrigan', 'Ceballos', 'Ceballos', 'Kerrigan', 'Kerrigan', 'Kerrigan', 'Kerrigan', 'Kerrigan', 'Kerrigan', 'Ceballos']"
   ]
  },
  {
   "cell_type": "code",
   "execution_count": 14,
   "metadata": {},
   "outputs": [
    {
     "name": "stdout",
     "output_type": "stream",
     "text": [
      "70\n",
      "33\n",
      "37\n",
      "47.14285714285714\n"
     ]
    }
   ],
   "source": [
    "total_responses = len(survey_responses)\n",
    "print(total_responses)\n",
    "\n",
    "total_ceballos = survey_responses.count('Ceballos')\n",
    "print(total_ceballos)\n",
    "\n",
    "total_kerrigan = survey_responses.count('Kerrigan')\n",
    "print(total_kerrigan)\n",
    "\n",
    "percentage_ceballos = (total_ceballos / total_responses) * 100\n",
    "print(percentage_ceballos)"
   ]
  },
  {
   "cell_type": "markdown",
   "metadata": {},
   "source": [
    "In the real election, 54% of the 10,000 town population voted for Cynthia Ceballos. Your supervisors are concerned because this is a very different outcome than what the poll predicted (47%). They want you to determine if there is something wrong with the poll or if given the sample size, it was an entirely reasonable result."
   ]
  },
  {
   "cell_type": "code",
   "execution_count": 24,
   "metadata": {},
   "outputs": [],
   "source": [
    "possible_surveys=np.random.binomial(len(survey_responses),0.54, size=10000)  / len(survey_responses)"
   ]
  },
  {
   "cell_type": "code",
   "execution_count": 25,
   "metadata": {},
   "outputs": [
    {
     "data": {
      "image/png": "[encoded data removed]",
      "text/plain": [
       "<matplotlib.figure.Figure at 0x1122ba208>"
      ]
     },
     "metadata": {},
     "output_type": "display_data"
    }
   ],
   "source": [
    "plt.hist(possible_surveys, bins=20, range=(0, 1))\n",
    "plt.show()"
   ]
  },
  {
   "cell_type": "markdown",
   "metadata": {},
   "source": [
    "As we saw, 47% of people we surveyed said they would vote for Ceballos, but 54% of people voted for Ceballos in the actual election.\n",
    "\n",
    "Calculate the percentage of surveys that could have an outcome of Ceballos receiving less than 50% of the vote and save it to the variable ceballos_loss_surveys."
   ]
  },
  {
   "cell_type": "code",
   "execution_count": 21,
   "metadata": {},
   "outputs": [
    {
     "name": "stdout",
     "output_type": "stream",
     "text": [
      "0.2099\n"
     ]
    }
   ],
   "source": [
    "ceballos_loss_surveys = np.mean(possible_surveys < .5)\n",
    "print(ceballos_loss_surveys)"
   ]
  },
  {
   "cell_type": "markdown",
   "metadata": {},
   "source": [
    "With this current poll, about 20% of the time a survey output would predict Kerrigan winning, even if Ceballos won the actual election.\n",
    "\n",
    "Your co-worker points out that your poll would be more accurate if it had more responders.\n",
    "\n",
    "Generate another binomial distribution, but this time, see what would happen if you had instead surveyed 7,000 people. Divide the distribution by the size of the survey and save your findings to large_survey."
   ]
  },
  {
   "cell_type": "code",
   "execution_count": 23,
   "metadata": {},
   "outputs": [
    {
     "name": "stdout",
     "output_type": "stream",
     "text": [
      "0.215714285714\n"
     ]
    }
   ],
   "source": [
    "large_survey = (np.random.binomial(70, 0.54, size=7000)) / len(survey_responses)\n",
    "ceballos_loss_new = np.mean(large_survey < .5)\n",
    "print(ceballos_loss_new)"
   ]
  },
  {
   "cell_type": "markdown",
   "metadata": {},
   "source": [
    "## LEARN BAYES' THEOREM\n",
    "\n",
    "#### Independent Events\n",
    "\n",
    "The ability to determine whether two events are independent is an important skill for statistics.\n",
    "\n",
    "If two events are independent, then the occurrence of one event does not affect the probability of the other event. Here are some examples of independent events:\n",
    "\n",
    "* I wear a blue shirt; my co-worker wears a blue shirt\n",
    "* I take the subway to work; I eat a tuna sandwich for lunch\n",
    "* The NY Giants win their football game; the NY Rangers win their hockey game\n",
    "\n",
    "If two events are dependent, then when one event occurs, the probability of the other event occurring changes in a predictable way.\n",
    "\n",
    "Here are some examples of dependent events:\n",
    "\n",
    "* It rains on Tuesday; I carry an umbrella on Tuesday\n",
    "* I eat spaghetti; I have a red stain on my shirt\n",
    "* I wear sunglasses; I go to the beach"
   ]
  },
  {
   "cell_type": "markdown",
   "metadata": {},
   "source": [
    "#### Conditional Probability\n",
    "\n",
    "Conditional probability is the probability that two events happen. It's easiest to calculate conditional probability when the two events are independent.\n",
    "\n",
    "Note: For the rest of this lesson, we'll be using the statistical convention that the probability of an event is written as P(event).\n",
    "\n",
    "If the probability of Event A is P(A) and the probability of Event B is P(B) and the two events are independent, then the probability of both events occurring is the product of the probabilities:\n",
    "\n",
    "P(A ∩ B) = P(A) × P(B)\n",
    "(The symbol ∩ just means \"and\", so P(A ∩ B) means probability that both A and B happen)\n",
    "\n",
    "For instance, suppose we are rolling a pair of dice, and want to know the probability of rolling two sixes. Each die has six sides, so the probability of rolling a six is 1/6. Each die is independent (i.e., rolling one six does not increase or decrease our chance of rolling a second six), so\n",
    "\n",
    "P(6 ∩ 6) = P(6) × P(6) = 1/6 × 1/6 = 1/36"
   ]
  },
  {
   "cell_type": "markdown",
   "metadata": {},
   "source": [
    "---\n",
    "This week, there is a 30% probability that it will rain on any given day. At a certain high school, gym class is held on three days out of the seven day week.\n",
    "\n",
    "On a school day, what is the probability that it is raining and the students have gym class? Save your answer to the variable p_rain_and_gym"
   ]
  },
  {
   "cell_type": "markdown",
   "metadata": {},
   "source": [
    "Hint: \n",
    "\n",
    "P(rain) = 0.30\n",
    "\n",
    "P(gym) = 3 / 5 = 0.60"
   ]
  },
  {
   "cell_type": "code",
   "execution_count": 28,
   "metadata": {},
   "outputs": [
    {
     "name": "stdout",
     "output_type": "stream",
     "text": [
      "0.18\n"
     ]
    }
   ],
   "source": [
    "p_rain_and_gym = (.30 * .60)\n",
    "print(p_rain_and_gym)"
   ]
  },
  {
   "cell_type": "markdown",
   "metadata": {},
   "source": [
    "#### Testing for a Rare Disease\n",
    "\n",
    "Suppose you are a doctor and you need to test if a patient has a certain rare disease. The test is very accurate: it's correct 99% of the time. The disease is very rare: only 1 in 100,000 patients have it.\n",
    "\n",
    "You administer the test and it comes back positive, so your patient must have the disease, right?\n",
    "\n",
    "Not necessarily. If we just consider the test, there is only a 1% chance that it is wrong, but we actually have more information: we know how rare the disease is.\n",
    "\n",
    "Given that the test came back positive, there are two possibilities:\n",
    "\n",
    "The patient had the disease, and the test correctly diagnosed the disease\n",
    "The patient didn't have the disease and the test incorrectly diagnosed that they had the disease."
   ]
  },
  {
   "cell_type": "markdown",
   "metadata": {},
   "source": [
    "Hint:\n",
    "\n",
    "The disease is rare, so the probability that the patient had the disease is 1 out of 100,000:\n",
    "P(disease) = 1 / 100,000\n",
    "\n",
    "The test is only wrong 1% of the time, so it is correct 99% of the time: \n",
    "P(test is correct) = 0.99"
   ]
  },
  {
   "cell_type": "code",
   "execution_count": 37,
   "metadata": {},
   "outputs": [
    {
     "name": "stdout",
     "output_type": "stream",
     "text": [
      "9.9e-06\n"
     ]
    }
   ],
   "source": [
    "# What is the probability that the patient had the disease and the test correctly diagnosed the disease?\n",
    "p_disease_and_correct = (1 / float(100000)) * .99\n",
    "print(p_disease_and_correct)"
   ]
  },
  {
   "cell_type": "markdown",
   "metadata": {},
   "source": [
    "What is the probability that the patient does not have the disease and the test incorrectly diagnosed the disease?\n",
    "\n",
    "Hint:\n",
    "\n",
    "The disease is rare, so the probability that the patient does not have the disease the disease is 99,999 out of 100,000:\n",
    "P(disease) = 99,999 / 100,000\n",
    "\n",
    "The test is only wrong 1% of the time: \n",
    "P(test is correct) = 0.01"
   ]
  },
  {
   "cell_type": "code",
   "execution_count": 38,
   "metadata": {},
   "outputs": [
    {
     "name": "stdout",
     "output_type": "stream",
     "text": [
      "0.0099999\n"
     ]
    }
   ],
   "source": [
    "p_no_disease_and_incorrect = (99999 / float(100000)) * .01\n",
    "print(p_no_disease_and_incorrect)"
   ]
  },
  {
   "cell_type": "markdown",
   "metadata": {},
   "source": [
    "#### Bayes Theorem\n",
    "\n",
    "In the previous exercise, we determined two probabilities:\n",
    "\n",
    "The patient had the disease, and the test correctly diagnosed the disease ≈ 0.00001\n",
    "The patient didn't have the disease and the test incorrectly diagnosed that they had the disease ≈ 0.01\n",
    "Both events are rare, but we can see that it was about 1,000 times more likely than the test was incorrect than that the patient had this rare disease.\n",
    "\n",
    "We're able to come to this conclusion because we had more information than just the accuracy of the test; we also knew the prevalence of this disease. That extra information about how we expect the world to work is called a _prior_.\n",
    "\n",
    "When we only use the first piece of information (the result of the test), it's called a _Frequentist Approach_ to statistics. When we incorporate our prior, it's called a _Bayesian Approach_.\n",
    "\n",
    "In statistics, if we have two events (A and B), we write the probability that event A will happen, given that event B already happened as P(A|B). In our example, we want to find P(rare disease | positive result).\n",
    "\n",
    "We can calculate P(A|B) using Bayes' Theorem, which states:\n",
    "\n",
    "\n",
    "\n",
    "So in this case, we'd say: "
   ]
  },
  {
   "cell_type": "markdown",
   "metadata": {},
   "source": [
    "#### Spam Filters\n",
    "\n",
    "Let's explore a different example. Email Spam filters use Bayes Theorem to determine if certain words indicate that an email is spam.\n",
    "\n",
    "Let's a take word that often appears in spam: \"enhancement\". With just 3 facts, we can make some preliminary steps towards a good spam filter:\n",
    "\n",
    "1. \"enhancement\" appears in just 0.1% of non-spam emails\n",
    "2. \"enhancement\" appears in 5% of spam emails\n",
    "3. Spam emails make up about 20% of total emails"
   ]
  },
  {
   "cell_type": "code",
   "execution_count": 39,
   "metadata": {},
   "outputs": [
    {
     "name": "stdout",
     "output_type": "stream",
     "text": [
      "0.9259259259259259\n"
     ]
    }
   ],
   "source": [
    "p_spam = 0.2\n",
    "p_enhancement_given_spam = 0.05\n",
    "p_enhancement = 0.05 * 0.2 + 0.001 * (1 - 0.2)\n",
    "p_spam_enhancement = p_enhancement_given_spam * p_spam / p_enhancement\n",
    "\n",
    "print(p_spam_enhancement)"
   ]
  },
  {
   "cell_type": "markdown",
   "metadata": {},
   "source": [
    "#### Review\n",
    "\n",
    "In this course, we learned several new definitions:\n",
    "\n",
    "Two events are independent if the occurrence of one event does not affect the probability of the second event\n",
    "If two events are independent then, \n",
    "P(A ∩ B) = P(A) × P(B)\n",
    "A prior is an additional piece of information that tells us how likely an event is\n",
    "A frequentist approach to statistics does not incorporate a prior\n",
    "A Bayesian approach to statistics incorporates prior knowledge\n",
    "Bayes' Theorem is\n"
   ]
  },
  {
   "cell_type": "code",
   "execution_count": null,
   "metadata": {},
   "outputs": [],
   "source": []
  }
 ],
 "metadata": {
  "kernelspec": {
   "display_name": "Python 3",
   "language": "python",
   "name": "python3"
  },
  "language_info": {
   "codemirror_mode": {
    "name": "ipython",
    "version": 3
   },
   "file_extension": ".py",
   "mimetype": "text/x-python",
   "name": "python",
   "nbconvert_exporter": "python",
   "pygments_lexer": "ipython3",
   "version": "3.6.3"
  }
 },
 "nbformat": 4,
 "nbformat_minor": 2
}
